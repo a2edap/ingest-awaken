{
 "cells": [
  {
   "cell_type": "markdown",
   "id": "159c3d1b-3c16-4292-b6a7-e16de961e1aa",
   "metadata": {},
   "source": [
    "# Shorten ASSIST Data for testing"
   ]
  },
  {
   "cell_type": "code",
   "execution_count": 1,
   "id": "c0b79395-ae93-4749-a218-7c7bce022e6a",
   "metadata": {},
   "outputs": [
    {
     "name": "stderr",
     "output_type": "stream",
     "text": [
      "/Users/dzalkind/opt/anaconda3/envs/dm-env/lib/python3.8/site-packages/xarray/backends/cfgrib_.py:27: UserWarning: Failed to load cfgrib - most likely there is a problem accessing the ecCodes library. Try `import cfgrib` to get the full error message\n",
      "  warnings.warn(\n"
     ]
    }
   ],
   "source": [
    "import xarray as xr\n",
    "import os\n",
    "import numpy as np\n",
    "import matplotlib.pyplot as plt"
   ]
  },
  {
   "cell_type": "code",
   "execution_count": 2,
   "id": "333ccd43-10f0-4461-ae8b-c827a3a16a6b",
   "metadata": {},
   "outputs": [
    {
     "name": "stderr",
     "output_type": "stream",
     "text": [
      "/Users/dzalkind/opt/anaconda3/envs/dm-env/lib/python3.8/site-packages/xarray/backends/plugins.py:68: RuntimeWarning: Engine 'cfgrib' loading failed:\n",
      "Cannot find the ecCodes library\n",
      "  warnings.warn(f\"Engine {name!r} loading failed:\\n{ex}\", RuntimeWarning)\n"
     ]
    }
   ],
   "source": [
    "filename = '/Users/dzalkind/Tools/AWAKEN_data/ingest-awaken/ingest/assist_nwtc/tests/data/input/nwtc.assist.z02.00.20220512.000124.assistsummary.cdf'\n",
    "parts = os.path.split(filename)\n",
    "shortfile = os.path.join(parts[0],f'short.{parts[-1]}')\n",
    "ds = xr.load_dataset(filename)\n",
    "\n",
    "# print(shortfile)"
   ]
  },
  {
   "cell_type": "code",
   "execution_count": 4,
   "id": "641276a9-15b9-4d96-ac87-43226e8dfc93",
   "metadata": {},
   "outputs": [],
   "source": [
    "frac = 0.05 # to shrink to \n",
    "\n",
    "max_time = ds.time.max()\n",
    "ds_smol = ds.where(ds.time < max_time * frac, drop=True)\n",
    "ds_smol.to_netcdf(shortfile)\n",
    "\n"
   ]
  },
  {
   "cell_type": "markdown",
   "id": "10a61f4f-43d8-41c0-bfb9-47526d792610",
   "metadata": {},
   "source": [
    "Investigate fraction vs. size"
   ]
  },
  {
   "cell_type": "code",
   "execution_count": 5,
   "id": "e0159ebb-590f-44c1-8d2f-49c4dda09079",
   "metadata": {},
   "outputs": [],
   "source": [
    "fracs = np.linspace(0.01,.1,num=10)\n",
    "fs = np.zeros(len(fracs))\n",
    "\n",
    "for i, frac in enumerate(fracs):\n",
    "    ds_smol = ds.where(ds.time < max_time * frac, drop=True)\n",
    "    ds_smol.to_netcdf('test.nc')\n",
    "    fs[i] = os.path.getsize('test.nc')\n",
    "    \n",
    "    "
   ]
  },
  {
   "cell_type": "code",
   "execution_count": 6,
   "id": "7210111d-e7d7-4732-94b8-01a057379c7b",
   "metadata": {},
   "outputs": [
    {
     "data": {
      "text/plain": [
       "[<matplotlib.lines.Line2D at 0x7f8f1bec4fa0>]"
      ]
     },
     "execution_count": 6,
     "metadata": {},
     "output_type": "execute_result"
    },
    {
     "data": {
      "image/png": "[encoded data removed]",
      "text/plain": [
       "<Figure size 432x288 with 1 Axes>"
      ]
     },
     "metadata": {
      "needs_background": "light"
     },
     "output_type": "display_data"
    }
   ],
   "source": [
    "plt.plot(fracs,fs / 1000)"
   ]
  },
  {
   "cell_type": "code",
   "execution_count": null,
   "id": "c35e33af-7483-456e-80ca-63b9ca0280e5",
   "metadata": {},
   "outputs": [],
   "source": []
  }
 ],
 "metadata": {
  "kernelspec": {
   "display_name": "dm-env",
   "language": "python",
   "name": "dm-env"
  },
  "language_info": {
   "codemirror_mode": {
    "name": "ipython",
    "version": 3
   },
   "file_extension": ".py",
   "mimetype": "text/x-python",
   "name": "python",
   "nbconvert_exporter": "python",
   "pygments_lexer": "ipython3",
   "version": "3.8.12"
  }
 },
 "nbformat": 4,
 "nbformat_minor": 5
}
